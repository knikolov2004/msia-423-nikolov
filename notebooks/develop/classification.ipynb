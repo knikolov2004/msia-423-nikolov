{
 "cells": [
  {
   "cell_type": "code",
   "execution_count": 526,
   "metadata": {},
   "outputs": [],
   "source": [
    "import pandas as pd\n",
    "import numpy as np\n",
    "import json\n",
    "\n",
    "# For modeling\n",
    "import sklearn\n",
    "from sklearn.preprocessing import StandardScaler\n",
    "from sklearn import model_selection\n",
    "from sklearn import linear_model\n",
    "from sklearn import ensemble\n",
    "from sklearn import metrics"
   ]
  },
  {
   "cell_type": "code",
   "execution_count": 18,
   "metadata": {},
   "outputs": [],
   "source": [
    "audio_feature_names = [\n",
    "    'danceability', 'energy', 'key', 'loudness', 'mode', 'speechiness',\n",
    "    'acousticness', 'instrumentalness', 'liveness', 'valence', 'tempo', 'type',\n",
    "    'id', 'uri', 'track_href', 'analysis_url', 'duration_ms', 'time_signature', 'playlist'\n",
    "]"
   ]
  },
  {
   "cell_type": "code",
   "execution_count": 33,
   "metadata": {},
   "outputs": [],
   "source": [
    "with open('../../data/dinner_features.json') as f:\n",
    "    dinner = json.load(f)\n",
    "    \n",
    "with open('../../data/party_features.json') as f:\n",
    "    party = json.load(f)\n",
    "    \n",
    "with open('../../data/sleep_features.json') as f:\n",
    "    sleep = json.load(f)\n",
    "    \n",
    "with open('../../data/workout_features.json') as f:\n",
    "    workout = json.load(f)"
   ]
  },
  {
   "cell_type": "code",
   "execution_count": 467,
   "metadata": {},
   "outputs": [],
   "source": [
    "def json_to_df(testjson, newcol):\n",
    "    df = pd.DataFrame(testjson)\n",
    "    df['playlist'] = newcol\n",
    "    return df"
   ]
  },
  {
   "cell_type": "code",
   "execution_count": 538,
   "metadata": {},
   "outputs": [],
   "source": [
    "# datalist = [dinner, party, sleep, workout]\n",
    "datalist = [dinner, party, sleep]\n",
    "# datalist = [party, sleep]\n",
    "i = 0\n",
    "data = pd.DataFrame(columns=audio_feature_names)\n",
    "while (i<len(datalist)):\n",
    "    df = pd.DataFrame(datalist[i])\n",
    "    if i == 0:\n",
    "        df['playlist'] = 'dinner'\n",
    "    elif i == 1:\n",
    "        df['playlist'] = 'party'\n",
    "    elif i == 2:\n",
    "        df['playlist'] = 'sleep'\n",
    "    else:\n",
    "        df['playlist'] = 'workout'\n",
    "    data = data.append(df).reset_index().drop('index', axis=1)\n",
    "    i = i+1"
   ]
  },
  {
   "cell_type": "code",
   "execution_count": 539,
   "metadata": {},
   "outputs": [
    {
     "data": {
      "text/html": [
       "<div>\n",
       "<style scoped>\n",
       "    .dataframe tbody tr th:only-of-type {\n",
       "        vertical-align: middle;\n",
       "    }\n",
       "\n",
       "    .dataframe tbody tr th {\n",
       "        vertical-align: top;\n",
       "    }\n",
       "\n",
       "    .dataframe thead th {\n",
       "        text-align: right;\n",
       "    }\n",
       "</style>\n",
       "<table border=\"1\" class=\"dataframe\">\n",
       "  <thead>\n",
       "    <tr style=\"text-align: right;\">\n",
       "      <th></th>\n",
       "      <th>danceability</th>\n",
       "      <th>energy</th>\n",
       "      <th>key</th>\n",
       "      <th>loudness</th>\n",
       "      <th>mode</th>\n",
       "      <th>speechiness</th>\n",
       "      <th>acousticness</th>\n",
       "      <th>instrumentalness</th>\n",
       "      <th>liveness</th>\n",
       "      <th>valence</th>\n",
       "      <th>tempo</th>\n",
       "      <th>type</th>\n",
       "      <th>id</th>\n",
       "      <th>uri</th>\n",
       "      <th>track_href</th>\n",
       "      <th>analysis_url</th>\n",
       "      <th>duration_ms</th>\n",
       "      <th>time_signature</th>\n",
       "      <th>playlist</th>\n",
       "    </tr>\n",
       "  </thead>\n",
       "  <tbody>\n",
       "    <tr>\n",
       "      <th>0</th>\n",
       "      <td>0.732</td>\n",
       "      <td>0.1980</td>\n",
       "      <td>5</td>\n",
       "      <td>-11.775</td>\n",
       "      <td>1</td>\n",
       "      <td>0.0280</td>\n",
       "      <td>0.88300</td>\n",
       "      <td>0.000011</td>\n",
       "      <td>0.0659</td>\n",
       "      <td>0.618</td>\n",
       "      <td>88.174</td>\n",
       "      <td>audio_features</td>\n",
       "      <td>6ybViy2qrO9sIi41EgRJgx</td>\n",
       "      <td>spotify:track:6ybViy2qrO9sIi41EgRJgx</td>\n",
       "      <td>https://api.spotify.com/v1/tracks/6ybViy2qrO9s...</td>\n",
       "      <td>https://api.spotify.com/v1/audio-analysis/6ybV...</td>\n",
       "      <td>186147</td>\n",
       "      <td>4</td>\n",
       "      <td>dinner</td>\n",
       "    </tr>\n",
       "    <tr>\n",
       "      <th>1</th>\n",
       "      <td>0.781</td>\n",
       "      <td>0.4450</td>\n",
       "      <td>2</td>\n",
       "      <td>-6.061</td>\n",
       "      <td>1</td>\n",
       "      <td>0.0295</td>\n",
       "      <td>0.47400</td>\n",
       "      <td>0.000000</td>\n",
       "      <td>0.1840</td>\n",
       "      <td>0.591</td>\n",
       "      <td>78.998</td>\n",
       "      <td>audio_features</td>\n",
       "      <td>34gCuhDGsG4bRPIf9bb02f</td>\n",
       "      <td>spotify:track:34gCuhDGsG4bRPIf9bb02f</td>\n",
       "      <td>https://api.spotify.com/v1/tracks/34gCuhDGsG4b...</td>\n",
       "      <td>https://api.spotify.com/v1/audio-analysis/34gC...</td>\n",
       "      <td>281560</td>\n",
       "      <td>4</td>\n",
       "      <td>dinner</td>\n",
       "    </tr>\n",
       "    <tr>\n",
       "      <th>2</th>\n",
       "      <td>0.363</td>\n",
       "      <td>0.1290</td>\n",
       "      <td>0</td>\n",
       "      <td>-14.304</td>\n",
       "      <td>1</td>\n",
       "      <td>0.0322</td>\n",
       "      <td>0.90400</td>\n",
       "      <td>0.000002</td>\n",
       "      <td>0.1570</td>\n",
       "      <td>0.147</td>\n",
       "      <td>80.367</td>\n",
       "      <td>audio_features</td>\n",
       "      <td>0Cvjlph1WGbwZY1PlMEtJY</td>\n",
       "      <td>spotify:track:0Cvjlph1WGbwZY1PlMEtJY</td>\n",
       "      <td>https://api.spotify.com/v1/tracks/0Cvjlph1WGbw...</td>\n",
       "      <td>https://api.spotify.com/v1/audio-analysis/0Cvj...</td>\n",
       "      <td>198147</td>\n",
       "      <td>3</td>\n",
       "      <td>dinner</td>\n",
       "    </tr>\n",
       "    <tr>\n",
       "      <th>3</th>\n",
       "      <td>0.828</td>\n",
       "      <td>0.4920</td>\n",
       "      <td>0</td>\n",
       "      <td>-9.744</td>\n",
       "      <td>1</td>\n",
       "      <td>0.0276</td>\n",
       "      <td>0.06440</td>\n",
       "      <td>0.004280</td>\n",
       "      <td>0.1280</td>\n",
       "      <td>0.789</td>\n",
       "      <td>120.151</td>\n",
       "      <td>audio_features</td>\n",
       "      <td>0ofHAoxe9vBkTCp2UQIavz</td>\n",
       "      <td>spotify:track:0ofHAoxe9vBkTCp2UQIavz</td>\n",
       "      <td>https://api.spotify.com/v1/tracks/0ofHAoxe9vBk...</td>\n",
       "      <td>https://api.spotify.com/v1/audio-analysis/0ofH...</td>\n",
       "      <td>257800</td>\n",
       "      <td>4</td>\n",
       "      <td>dinner</td>\n",
       "    </tr>\n",
       "    <tr>\n",
       "      <th>4</th>\n",
       "      <td>0.608</td>\n",
       "      <td>0.5240</td>\n",
       "      <td>8</td>\n",
       "      <td>-10.266</td>\n",
       "      <td>1</td>\n",
       "      <td>0.0309</td>\n",
       "      <td>0.36700</td>\n",
       "      <td>0.002540</td>\n",
       "      <td>0.1150</td>\n",
       "      <td>0.797</td>\n",
       "      <td>86.204</td>\n",
       "      <td>audio_features</td>\n",
       "      <td>3lh3iiiJeiBXHSZw6u0kh6</td>\n",
       "      <td>spotify:track:3lh3iiiJeiBXHSZw6u0kh6</td>\n",
       "      <td>https://api.spotify.com/v1/tracks/3lh3iiiJeiBX...</td>\n",
       "      <td>https://api.spotify.com/v1/audio-analysis/3lh3...</td>\n",
       "      <td>205613</td>\n",
       "      <td>4</td>\n",
       "      <td>dinner</td>\n",
       "    </tr>\n",
       "    <tr>\n",
       "      <th>...</th>\n",
       "      <td>...</td>\n",
       "      <td>...</td>\n",
       "      <td>...</td>\n",
       "      <td>...</td>\n",
       "      <td>...</td>\n",
       "      <td>...</td>\n",
       "      <td>...</td>\n",
       "      <td>...</td>\n",
       "      <td>...</td>\n",
       "      <td>...</td>\n",
       "      <td>...</td>\n",
       "      <td>...</td>\n",
       "      <td>...</td>\n",
       "      <td>...</td>\n",
       "      <td>...</td>\n",
       "      <td>...</td>\n",
       "      <td>...</td>\n",
       "      <td>...</td>\n",
       "      <td>...</td>\n",
       "    </tr>\n",
       "    <tr>\n",
       "      <th>295</th>\n",
       "      <td>0.558</td>\n",
       "      <td>0.8630</td>\n",
       "      <td>4</td>\n",
       "      <td>-3.530</td>\n",
       "      <td>1</td>\n",
       "      <td>0.1780</td>\n",
       "      <td>0.17000</td>\n",
       "      <td>0.000000</td>\n",
       "      <td>0.2890</td>\n",
       "      <td>0.388</td>\n",
       "      <td>173.908</td>\n",
       "      <td>audio_features</td>\n",
       "      <td>1OqDvYVDhJyFZny7XlfIyZ</td>\n",
       "      <td>spotify:track:1OqDvYVDhJyFZny7XlfIyZ</td>\n",
       "      <td>https://api.spotify.com/v1/tracks/1OqDvYVDhJyF...</td>\n",
       "      <td>https://api.spotify.com/v1/audio-analysis/1OqD...</td>\n",
       "      <td>299707</td>\n",
       "      <td>4</td>\n",
       "      <td>sleep</td>\n",
       "    </tr>\n",
       "    <tr>\n",
       "      <th>296</th>\n",
       "      <td>0.485</td>\n",
       "      <td>0.8280</td>\n",
       "      <td>11</td>\n",
       "      <td>-4.505</td>\n",
       "      <td>0</td>\n",
       "      <td>0.1120</td>\n",
       "      <td>0.00927</td>\n",
       "      <td>0.000000</td>\n",
       "      <td>0.3250</td>\n",
       "      <td>0.277</td>\n",
       "      <td>93.723</td>\n",
       "      <td>audio_features</td>\n",
       "      <td>41sIKltzKnhFsDXWTKjO3R</td>\n",
       "      <td>spotify:track:41sIKltzKnhFsDXWTKjO3R</td>\n",
       "      <td>https://api.spotify.com/v1/tracks/41sIKltzKnhF...</td>\n",
       "      <td>https://api.spotify.com/v1/audio-analysis/41sI...</td>\n",
       "      <td>358271</td>\n",
       "      <td>4</td>\n",
       "      <td>sleep</td>\n",
       "    </tr>\n",
       "    <tr>\n",
       "      <th>297</th>\n",
       "      <td>0.618</td>\n",
       "      <td>0.4430</td>\n",
       "      <td>2</td>\n",
       "      <td>-9.681</td>\n",
       "      <td>1</td>\n",
       "      <td>0.0526</td>\n",
       "      <td>0.46900</td>\n",
       "      <td>0.000000</td>\n",
       "      <td>0.0829</td>\n",
       "      <td>0.167</td>\n",
       "      <td>119.949</td>\n",
       "      <td>audio_features</td>\n",
       "      <td>5vjLSffimiIP26QG5WcN2K</td>\n",
       "      <td>spotify:track:5vjLSffimiIP26QG5WcN2K</td>\n",
       "      <td>https://api.spotify.com/v1/tracks/5vjLSffimiIP...</td>\n",
       "      <td>https://api.spotify.com/v1/audio-analysis/5vjL...</td>\n",
       "      <td>198853</td>\n",
       "      <td>4</td>\n",
       "      <td>sleep</td>\n",
       "    </tr>\n",
       "    <tr>\n",
       "      <th>298</th>\n",
       "      <td>0.629</td>\n",
       "      <td>0.3340</td>\n",
       "      <td>2</td>\n",
       "      <td>-9.781</td>\n",
       "      <td>1</td>\n",
       "      <td>0.4240</td>\n",
       "      <td>0.84800</td>\n",
       "      <td>0.143000</td>\n",
       "      <td>0.1060</td>\n",
       "      <td>0.617</td>\n",
       "      <td>81.953</td>\n",
       "      <td>audio_features</td>\n",
       "      <td>77Uo6nqkmG5eFLgTuQcZIV</td>\n",
       "      <td>spotify:track:77Uo6nqkmG5eFLgTuQcZIV</td>\n",
       "      <td>https://api.spotify.com/v1/tracks/77Uo6nqkmG5e...</td>\n",
       "      <td>https://api.spotify.com/v1/audio-analysis/77Uo...</td>\n",
       "      <td>49548</td>\n",
       "      <td>3</td>\n",
       "      <td>sleep</td>\n",
       "    </tr>\n",
       "    <tr>\n",
       "      <th>299</th>\n",
       "      <td>0.350</td>\n",
       "      <td>0.0256</td>\n",
       "      <td>2</td>\n",
       "      <td>-22.589</td>\n",
       "      <td>1</td>\n",
       "      <td>0.0334</td>\n",
       "      <td>0.95700</td>\n",
       "      <td>0.880000</td>\n",
       "      <td>0.1060</td>\n",
       "      <td>0.071</td>\n",
       "      <td>77.664</td>\n",
       "      <td>audio_features</td>\n",
       "      <td>4TxfZzrq0dH2Wmfl4dAjN9</td>\n",
       "      <td>spotify:track:4TxfZzrq0dH2Wmfl4dAjN9</td>\n",
       "      <td>https://api.spotify.com/v1/tracks/4TxfZzrq0dH2...</td>\n",
       "      <td>https://api.spotify.com/v1/audio-analysis/4Txf...</td>\n",
       "      <td>220385</td>\n",
       "      <td>4</td>\n",
       "      <td>sleep</td>\n",
       "    </tr>\n",
       "  </tbody>\n",
       "</table>\n",
       "<p>300 rows × 19 columns</p>\n",
       "</div>"
      ],
      "text/plain": [
       "     danceability  energy key  loudness mode  speechiness  acousticness  \\\n",
       "0           0.732  0.1980   5   -11.775    1       0.0280       0.88300   \n",
       "1           0.781  0.4450   2    -6.061    1       0.0295       0.47400   \n",
       "2           0.363  0.1290   0   -14.304    1       0.0322       0.90400   \n",
       "3           0.828  0.4920   0    -9.744    1       0.0276       0.06440   \n",
       "4           0.608  0.5240   8   -10.266    1       0.0309       0.36700   \n",
       "..            ...     ...  ..       ...  ...          ...           ...   \n",
       "295         0.558  0.8630   4    -3.530    1       0.1780       0.17000   \n",
       "296         0.485  0.8280  11    -4.505    0       0.1120       0.00927   \n",
       "297         0.618  0.4430   2    -9.681    1       0.0526       0.46900   \n",
       "298         0.629  0.3340   2    -9.781    1       0.4240       0.84800   \n",
       "299         0.350  0.0256   2   -22.589    1       0.0334       0.95700   \n",
       "\n",
       "     instrumentalness  liveness  valence    tempo            type  \\\n",
       "0            0.000011    0.0659    0.618   88.174  audio_features   \n",
       "1            0.000000    0.1840    0.591   78.998  audio_features   \n",
       "2            0.000002    0.1570    0.147   80.367  audio_features   \n",
       "3            0.004280    0.1280    0.789  120.151  audio_features   \n",
       "4            0.002540    0.1150    0.797   86.204  audio_features   \n",
       "..                ...       ...      ...      ...             ...   \n",
       "295          0.000000    0.2890    0.388  173.908  audio_features   \n",
       "296          0.000000    0.3250    0.277   93.723  audio_features   \n",
       "297          0.000000    0.0829    0.167  119.949  audio_features   \n",
       "298          0.143000    0.1060    0.617   81.953  audio_features   \n",
       "299          0.880000    0.1060    0.071   77.664  audio_features   \n",
       "\n",
       "                         id                                   uri  \\\n",
       "0    6ybViy2qrO9sIi41EgRJgx  spotify:track:6ybViy2qrO9sIi41EgRJgx   \n",
       "1    34gCuhDGsG4bRPIf9bb02f  spotify:track:34gCuhDGsG4bRPIf9bb02f   \n",
       "2    0Cvjlph1WGbwZY1PlMEtJY  spotify:track:0Cvjlph1WGbwZY1PlMEtJY   \n",
       "3    0ofHAoxe9vBkTCp2UQIavz  spotify:track:0ofHAoxe9vBkTCp2UQIavz   \n",
       "4    3lh3iiiJeiBXHSZw6u0kh6  spotify:track:3lh3iiiJeiBXHSZw6u0kh6   \n",
       "..                      ...                                   ...   \n",
       "295  1OqDvYVDhJyFZny7XlfIyZ  spotify:track:1OqDvYVDhJyFZny7XlfIyZ   \n",
       "296  41sIKltzKnhFsDXWTKjO3R  spotify:track:41sIKltzKnhFsDXWTKjO3R   \n",
       "297  5vjLSffimiIP26QG5WcN2K  spotify:track:5vjLSffimiIP26QG5WcN2K   \n",
       "298  77Uo6nqkmG5eFLgTuQcZIV  spotify:track:77Uo6nqkmG5eFLgTuQcZIV   \n",
       "299  4TxfZzrq0dH2Wmfl4dAjN9  spotify:track:4TxfZzrq0dH2Wmfl4dAjN9   \n",
       "\n",
       "                                            track_href  \\\n",
       "0    https://api.spotify.com/v1/tracks/6ybViy2qrO9s...   \n",
       "1    https://api.spotify.com/v1/tracks/34gCuhDGsG4b...   \n",
       "2    https://api.spotify.com/v1/tracks/0Cvjlph1WGbw...   \n",
       "3    https://api.spotify.com/v1/tracks/0ofHAoxe9vBk...   \n",
       "4    https://api.spotify.com/v1/tracks/3lh3iiiJeiBX...   \n",
       "..                                                 ...   \n",
       "295  https://api.spotify.com/v1/tracks/1OqDvYVDhJyF...   \n",
       "296  https://api.spotify.com/v1/tracks/41sIKltzKnhF...   \n",
       "297  https://api.spotify.com/v1/tracks/5vjLSffimiIP...   \n",
       "298  https://api.spotify.com/v1/tracks/77Uo6nqkmG5e...   \n",
       "299  https://api.spotify.com/v1/tracks/4TxfZzrq0dH2...   \n",
       "\n",
       "                                          analysis_url duration_ms  \\\n",
       "0    https://api.spotify.com/v1/audio-analysis/6ybV...      186147   \n",
       "1    https://api.spotify.com/v1/audio-analysis/34gC...      281560   \n",
       "2    https://api.spotify.com/v1/audio-analysis/0Cvj...      198147   \n",
       "3    https://api.spotify.com/v1/audio-analysis/0ofH...      257800   \n",
       "4    https://api.spotify.com/v1/audio-analysis/3lh3...      205613   \n",
       "..                                                 ...         ...   \n",
       "295  https://api.spotify.com/v1/audio-analysis/1OqD...      299707   \n",
       "296  https://api.spotify.com/v1/audio-analysis/41sI...      358271   \n",
       "297  https://api.spotify.com/v1/audio-analysis/5vjL...      198853   \n",
       "298  https://api.spotify.com/v1/audio-analysis/77Uo...       49548   \n",
       "299  https://api.spotify.com/v1/audio-analysis/4Txf...      220385   \n",
       "\n",
       "    time_signature playlist  \n",
       "0                4   dinner  \n",
       "1                4   dinner  \n",
       "2                3   dinner  \n",
       "3                4   dinner  \n",
       "4                4   dinner  \n",
       "..             ...      ...  \n",
       "295              4    sleep  \n",
       "296              4    sleep  \n",
       "297              4    sleep  \n",
       "298              3    sleep  \n",
       "299              4    sleep  \n",
       "\n",
       "[300 rows x 19 columns]"
      ]
     },
     "execution_count": 539,
     "metadata": {},
     "output_type": "execute_result"
    }
   ],
   "source": [
    "data"
   ]
  },
  {
   "cell_type": "code",
   "execution_count": 520,
   "metadata": {},
   "outputs": [],
   "source": [
    "import boto3\n",
    "AWS_ACCESS_KEY_ID = os.getenv(\"aws_access_key_id\")\n",
    "AWS_SECRET_ACCESS_KEY = os.getenv(\"aws_secret_access_key\")\n",
    "S3_BUCKET = \"nw-kristian-nikolov-s3\"\n",
    "s3 = boto3.resource('s3', aws_access_key_id=AWS_ACCESS_KEY_ID, aws_secret_access_key=AWS_SECRET_ACCESS_KEY)"
   ]
  },
  {
   "cell_type": "code",
   "execution_count": 522,
   "metadata": {},
   "outputs": [],
   "source": [
    "df = pd.DataFrame(json.loads(s3.Object(S3_BUCKET, \"workout_features.json\").get()['Body'].read().decode('utf-8')))"
   ]
  },
  {
   "cell_type": "code",
   "execution_count": 523,
   "metadata": {},
   "outputs": [],
   "source": [
    "data = pd.DataFrame(columns=audio_feature_names)"
   ]
  },
  {
   "cell_type": "markdown",
   "metadata": {},
   "source": [
    "# Train Model "
   ]
  },
  {
   "cell_type": "code",
   "execution_count": 525,
   "metadata": {},
   "outputs": [],
   "source": [
    "initial_features = [\n",
    "    'danceability', 'energy', 'key', 'loudness', 'mode', 'speechiness',\n",
    "    'acousticness', 'instrumentalness', 'liveness', 'valence', 'tempo'\n",
    "]"
   ]
  },
  {
   "cell_type": "code",
   "execution_count": 382,
   "metadata": {},
   "outputs": [],
   "source": [
    "scaler = StandardScaler()\n",
    "scaler.fit(data[initial_features])\n",
    "scaled_features = pd.DataFrame(scaler.fit_transform(data[initial_features]), columns = initial_features)"
   ]
  },
  {
   "cell_type": "code",
   "execution_count": 551,
   "metadata": {},
   "outputs": [],
   "source": [
    "def scale_data(array,means=scaler.mean_,stds=scaler.var_ **0.5):\n",
    "    return (array-means)/stds"
   ]
  },
  {
   "cell_type": "code",
   "execution_count": 384,
   "metadata": {},
   "outputs": [],
   "source": [
    "scaled_features = pd.DataFrame(scale_data(data[initial_features]), columns = initial_features)"
   ]
  },
  {
   "cell_type": "code",
   "execution_count": 385,
   "metadata": {},
   "outputs": [],
   "source": [
    "features = scaled_features\n",
    "target = data['playlist']"
   ]
  },
  {
   "cell_type": "code",
   "execution_count": 386,
   "metadata": {},
   "outputs": [],
   "source": [
    "#split into train and test set\n",
    "X_train, X_test, y_train, y_test = model_selection.train_test_split(\n",
    "    features, target, test_size=0.2, random_state=1337)"
   ]
  },
  {
   "cell_type": "code",
   "execution_count": 536,
   "metadata": {},
   "outputs": [
    {
     "data": {
      "text/html": [
       "<div>\n",
       "<style scoped>\n",
       "    .dataframe tbody tr th:only-of-type {\n",
       "        vertical-align: middle;\n",
       "    }\n",
       "\n",
       "    .dataframe tbody tr th {\n",
       "        vertical-align: top;\n",
       "    }\n",
       "\n",
       "    .dataframe thead th {\n",
       "        text-align: right;\n",
       "    }\n",
       "</style>\n",
       "<table border=\"1\" class=\"dataframe\">\n",
       "  <thead>\n",
       "    <tr style=\"text-align: right;\">\n",
       "      <th></th>\n",
       "      <th>danceability</th>\n",
       "      <th>energy</th>\n",
       "      <th>key</th>\n",
       "      <th>loudness</th>\n",
       "      <th>mode</th>\n",
       "      <th>speechiness</th>\n",
       "      <th>acousticness</th>\n",
       "      <th>instrumentalness</th>\n",
       "      <th>liveness</th>\n",
       "      <th>valence</th>\n",
       "      <th>tempo</th>\n",
       "    </tr>\n",
       "  </thead>\n",
       "  <tbody>\n",
       "    <tr>\n",
       "      <th>0</th>\n",
       "      <td>0.672369</td>\n",
       "      <td>-1.228514</td>\n",
       "      <td>-0.0616407</td>\n",
       "      <td>-0.491205</td>\n",
       "      <td>0.793999</td>\n",
       "      <td>-0.589868</td>\n",
       "      <td>1.346013</td>\n",
       "      <td>-0.340139</td>\n",
       "      <td>-0.772375</td>\n",
       "      <td>0.465786</td>\n",
       "      <td>-0.964508</td>\n",
       "    </tr>\n",
       "    <tr>\n",
       "      <th>1</th>\n",
       "      <td>0.972342</td>\n",
       "      <td>-0.248367</td>\n",
       "      <td>-0.902196</td>\n",
       "      <td>0.585370</td>\n",
       "      <td>0.793999</td>\n",
       "      <td>-0.569201</td>\n",
       "      <td>0.162940</td>\n",
       "      <td>-0.340185</td>\n",
       "      <td>0.356038</td>\n",
       "      <td>0.361178</td>\n",
       "      <td>-1.310086</td>\n",
       "    </tr>\n",
       "    <tr>\n",
       "      <th>2</th>\n",
       "      <td>-1.586613</td>\n",
       "      <td>-1.502320</td>\n",
       "      <td>-1.46257</td>\n",
       "      <td>-0.967694</td>\n",
       "      <td>0.793999</td>\n",
       "      <td>-0.532000</td>\n",
       "      <td>1.406757</td>\n",
       "      <td>-0.340179</td>\n",
       "      <td>0.098060</td>\n",
       "      <td>-1.359043</td>\n",
       "      <td>-1.258528</td>\n",
       "    </tr>\n",
       "    <tr>\n",
       "      <th>3</th>\n",
       "      <td>1.260071</td>\n",
       "      <td>-0.061861</td>\n",
       "      <td>-1.46257</td>\n",
       "      <td>-0.108544</td>\n",
       "      <td>0.793999</td>\n",
       "      <td>-0.595379</td>\n",
       "      <td>-1.021868</td>\n",
       "      <td>-0.322252</td>\n",
       "      <td>-0.179027</td>\n",
       "      <td>1.128303</td>\n",
       "      <td>0.239778</td>\n",
       "    </tr>\n",
       "    <tr>\n",
       "      <th>4</th>\n",
       "      <td>-0.086747</td>\n",
       "      <td>0.065121</td>\n",
       "      <td>0.778914</td>\n",
       "      <td>-0.206894</td>\n",
       "      <td>0.793999</td>\n",
       "      <td>-0.549911</td>\n",
       "      <td>-0.146568</td>\n",
       "      <td>-0.329543</td>\n",
       "      <td>-0.303238</td>\n",
       "      <td>1.159298</td>\n",
       "      <td>-1.038700</td>\n",
       "    </tr>\n",
       "    <tr>\n",
       "      <th>...</th>\n",
       "      <td>...</td>\n",
       "      <td>...</td>\n",
       "      <td>...</td>\n",
       "      <td>...</td>\n",
       "      <td>...</td>\n",
       "      <td>...</td>\n",
       "      <td>...</td>\n",
       "      <td>...</td>\n",
       "      <td>...</td>\n",
       "      <td>...</td>\n",
       "      <td>...</td>\n",
       "    </tr>\n",
       "    <tr>\n",
       "      <th>295</th>\n",
       "      <td>-0.392842</td>\n",
       "      <td>1.410343</td>\n",
       "      <td>-0.341826</td>\n",
       "      <td>1.062236</td>\n",
       "      <td>0.793999</td>\n",
       "      <td>1.476847</td>\n",
       "      <td>-0.716409</td>\n",
       "      <td>-0.340185</td>\n",
       "      <td>1.359284</td>\n",
       "      <td>-0.425319</td>\n",
       "      <td>2.264321</td>\n",
       "    </tr>\n",
       "    <tr>\n",
       "      <th>296</th>\n",
       "      <td>-0.839741</td>\n",
       "      <td>1.271456</td>\n",
       "      <td>1.61947</td>\n",
       "      <td>0.878536</td>\n",
       "      <td>-1.25945</td>\n",
       "      <td>0.567492</td>\n",
       "      <td>-1.181337</td>\n",
       "      <td>-0.340185</td>\n",
       "      <td>1.703254</td>\n",
       "      <td>-0.855374</td>\n",
       "      <td>-0.755527</td>\n",
       "    </tr>\n",
       "    <tr>\n",
       "      <th>297</th>\n",
       "      <td>-0.025528</td>\n",
       "      <td>-0.256303</td>\n",
       "      <td>-0.902196</td>\n",
       "      <td>-0.096674</td>\n",
       "      <td>0.793999</td>\n",
       "      <td>-0.250927</td>\n",
       "      <td>0.148477</td>\n",
       "      <td>-0.340185</td>\n",
       "      <td>-0.609945</td>\n",
       "      <td>-1.281555</td>\n",
       "      <td>0.232170</td>\n",
       "    </tr>\n",
       "    <tr>\n",
       "      <th>298</th>\n",
       "      <td>0.041813</td>\n",
       "      <td>-0.688838</td>\n",
       "      <td>-0.902196</td>\n",
       "      <td>-0.115515</td>\n",
       "      <td>0.793999</td>\n",
       "      <td>4.866258</td>\n",
       "      <td>1.244772</td>\n",
       "      <td>0.258970</td>\n",
       "      <td>-0.389231</td>\n",
       "      <td>0.461911</td>\n",
       "      <td>-1.198797</td>\n",
       "    </tr>\n",
       "    <tr>\n",
       "      <th>299</th>\n",
       "      <td>-1.666198</td>\n",
       "      <td>-1.912632</td>\n",
       "      <td>-0.902196</td>\n",
       "      <td>-2.528671</td>\n",
       "      <td>0.793999</td>\n",
       "      <td>-0.515466</td>\n",
       "      <td>1.560065</td>\n",
       "      <td>3.346926</td>\n",
       "      <td>-0.389231</td>\n",
       "      <td>-1.653495</td>\n",
       "      <td>-1.360325</td>\n",
       "    </tr>\n",
       "  </tbody>\n",
       "</table>\n",
       "<p>300 rows × 11 columns</p>\n",
       "</div>"
      ],
      "text/plain": [
       "     danceability    energy        key  loudness      mode  speechiness  \\\n",
       "0        0.672369 -1.228514 -0.0616407 -0.491205  0.793999    -0.589868   \n",
       "1        0.972342 -0.248367  -0.902196  0.585370  0.793999    -0.569201   \n",
       "2       -1.586613 -1.502320   -1.46257 -0.967694  0.793999    -0.532000   \n",
       "3        1.260071 -0.061861   -1.46257 -0.108544  0.793999    -0.595379   \n",
       "4       -0.086747  0.065121   0.778914 -0.206894  0.793999    -0.549911   \n",
       "..            ...       ...        ...       ...       ...          ...   \n",
       "295     -0.392842  1.410343  -0.341826  1.062236  0.793999     1.476847   \n",
       "296     -0.839741  1.271456    1.61947  0.878536  -1.25945     0.567492   \n",
       "297     -0.025528 -0.256303  -0.902196 -0.096674  0.793999    -0.250927   \n",
       "298      0.041813 -0.688838  -0.902196 -0.115515  0.793999     4.866258   \n",
       "299     -1.666198 -1.912632  -0.902196 -2.528671  0.793999    -0.515466   \n",
       "\n",
       "     acousticness  instrumentalness  liveness   valence     tempo  \n",
       "0        1.346013         -0.340139 -0.772375  0.465786 -0.964508  \n",
       "1        0.162940         -0.340185  0.356038  0.361178 -1.310086  \n",
       "2        1.406757         -0.340179  0.098060 -1.359043 -1.258528  \n",
       "3       -1.021868         -0.322252 -0.179027  1.128303  0.239778  \n",
       "4       -0.146568         -0.329543 -0.303238  1.159298 -1.038700  \n",
       "..            ...               ...       ...       ...       ...  \n",
       "295     -0.716409         -0.340185  1.359284 -0.425319  2.264321  \n",
       "296     -1.181337         -0.340185  1.703254 -0.855374 -0.755527  \n",
       "297      0.148477         -0.340185 -0.609945 -1.281555  0.232170  \n",
       "298      1.244772          0.258970 -0.389231  0.461911 -1.198797  \n",
       "299      1.560065          3.346926 -0.389231 -1.653495 -1.360325  \n",
       "\n",
       "[300 rows x 11 columns]"
      ]
     },
     "execution_count": 536,
     "metadata": {},
     "output_type": "execute_result"
    }
   ],
   "source": [
    "features"
   ]
  },
  {
   "cell_type": "markdown",
   "metadata": {},
   "source": [
    "## Logistic Regression"
   ]
  },
  {
   "cell_type": "code",
   "execution_count": 387,
   "metadata": {},
   "outputs": [],
   "source": [
    "lr = linear_model.LogisticRegression(fit_intercept=False, penalty='l2')"
   ]
  },
  {
   "cell_type": "code",
   "execution_count": 388,
   "metadata": {},
   "outputs": [
    {
     "data": {
      "text/plain": [
       "LogisticRegression(C=1.0, class_weight=None, dual=False, fit_intercept=False,\n",
       "                   intercept_scaling=1, l1_ratio=None, max_iter=100,\n",
       "                   multi_class='auto', n_jobs=None, penalty='l2',\n",
       "                   random_state=None, solver='lbfgs', tol=0.0001, verbose=0,\n",
       "                   warm_start=False)"
      ]
     },
     "execution_count": 388,
     "metadata": {},
     "output_type": "execute_result"
    }
   ],
   "source": [
    "lr.fit(X_train[initial_features], y_train)"
   ]
  },
  {
   "cell_type": "code",
   "execution_count": 389,
   "metadata": {},
   "outputs": [],
   "source": [
    "ypred_proba_test = lr.predict_proba(X_test[initial_features])[:,1]\n",
    "ypred_bin_test = lr.predict(X_test[initial_features])"
   ]
  },
  {
   "cell_type": "code",
   "execution_count": 390,
   "metadata": {},
   "outputs": [],
   "source": [
    "# auc = sklearn.metrics.roc_auc_score(y_test, ypred_proba_test)\n",
    "confusion = sklearn.metrics.confusion_matrix(y_test, ypred_bin_test)\n",
    "accuracy = sklearn.metrics.accuracy_score(y_test, ypred_bin_test)\n",
    "classification_report = sklearn.metrics.classification_report(y_test, ypred_bin_test)"
   ]
  },
  {
   "cell_type": "code",
   "execution_count": 542,
   "metadata": {},
   "outputs": [
    {
     "data": {
      "text/plain": [
       "'              precision    recall  f1-score   support\\n\\n      dinner       0.62      0.56      0.59        18\\n       party       0.86      0.95      0.90        20\\n       sleep       0.68      0.68      0.68        22\\n\\n    accuracy                           0.73        60\\n   macro avg       0.72      0.73      0.72        60\\nweighted avg       0.73      0.73      0.73        60\\n'"
      ]
     },
     "execution_count": 542,
     "metadata": {},
     "output_type": "execute_result"
    }
   ],
   "source": [
    "classification_report"
   ]
  },
  {
   "cell_type": "code",
   "execution_count": 394,
   "metadata": {},
   "outputs": [
    {
     "name": "stdout",
     "output_type": "stream",
     "text": [
      "Accuracy on test: 0.750\n",
      "\n",
      "               Predicted dinner  Predicted party  Predicted sleep\n",
      "Actual dinner                 8                2                8\n",
      "Actual party                  1               19                0\n",
      "Actual sleep                  2                2               18\n"
     ]
    }
   ],
   "source": [
    "# print('AUC on test: %0.3f' % auc)\n",
    "print('Accuracy on test: %0.3f' % accuracy)\n",
    "print()\n",
    "print(pd.DataFrame(confusion,\n",
    "                  index=['Actual dinner','Actual party', 'Actual sleep'],\n",
    "                  columns=['Predicted dinner', 'Predicted party', 'Predicted sleep']))\n",
    "\n",
    "# print(pd.DataFrame(confusion,\n",
    "#                   index=['Actual party', 'Actual sleep'],\n",
    "#                   columns=['Predicted party', 'Predicted sleep']))"
   ]
  },
  {
   "cell_type": "code",
   "execution_count": 395,
   "metadata": {
    "jupyter": {
     "source_hidden": true
    }
   },
   "outputs": [
    {
     "data": {
      "text/html": [
       "<div>\n",
       "<style scoped>\n",
       "    .dataframe tbody tr th:only-of-type {\n",
       "        vertical-align: middle;\n",
       "    }\n",
       "\n",
       "    .dataframe tbody tr th {\n",
       "        vertical-align: top;\n",
       "    }\n",
       "\n",
       "    .dataframe thead th {\n",
       "        text-align: right;\n",
       "    }\n",
       "</style>\n",
       "<table border=\"1\" class=\"dataframe\">\n",
       "  <thead>\n",
       "    <tr style=\"text-align: right;\">\n",
       "      <th></th>\n",
       "      <th>coefs</th>\n",
       "      <th>odds_ratio</th>\n",
       "    </tr>\n",
       "  </thead>\n",
       "  <tbody>\n",
       "    <tr>\n",
       "      <th>valence</th>\n",
       "      <td>1.132645</td>\n",
       "      <td>3.103856</td>\n",
       "    </tr>\n",
       "    <tr>\n",
       "      <th>acousticness</th>\n",
       "      <td>0.244193</td>\n",
       "      <td>1.276590</td>\n",
       "    </tr>\n",
       "    <tr>\n",
       "      <th>mode</th>\n",
       "      <td>0.121859</td>\n",
       "      <td>1.129595</td>\n",
       "    </tr>\n",
       "    <tr>\n",
       "      <th>tempo</th>\n",
       "      <td>0.060827</td>\n",
       "      <td>1.062715</td>\n",
       "    </tr>\n",
       "    <tr>\n",
       "      <th>key</th>\n",
       "      <td>0.021568</td>\n",
       "      <td>1.021802</td>\n",
       "    </tr>\n",
       "  </tbody>\n",
       "</table>\n",
       "</div>"
      ],
      "text/plain": [
       "                 coefs  odds_ratio\n",
       "valence       1.132645    3.103856\n",
       "acousticness  0.244193    1.276590\n",
       "mode          0.121859    1.129595\n",
       "tempo         0.060827    1.062715\n",
       "key           0.021568    1.021802"
      ]
     },
     "execution_count": 395,
     "metadata": {},
     "output_type": "execute_result"
    }
   ],
   "source": [
    "fitted = pd.DataFrame(index=initial_features)\n",
    "\n",
    "fitted['coefs'] = lr.coef_[0]\n",
    "\n",
    "fitted['odds_ratio'] = fitted.coefs.apply(np.exp)\n",
    "\n",
    "fitted = fitted.sort_values(by='odds_ratio', ascending=False)\n",
    "\n",
    "fitted.head()"
   ]
  },
  {
   "cell_type": "markdown",
   "metadata": {},
   "source": [
    "## Random Forest"
   ]
  },
  {
   "cell_type": "code",
   "execution_count": 528,
   "metadata": {},
   "outputs": [],
   "source": [
    "rf = ensemble.RandomForestClassifier()"
   ]
  },
  {
   "cell_type": "code",
   "execution_count": 529,
   "metadata": {},
   "outputs": [
    {
     "data": {
      "text/plain": [
       "RandomForestClassifier(bootstrap=True, ccp_alpha=0.0, class_weight=None,\n",
       "                       criterion='gini', max_depth=None, max_features='auto',\n",
       "                       max_leaf_nodes=None, max_samples=None,\n",
       "                       min_impurity_decrease=0.0, min_impurity_split=None,\n",
       "                       min_samples_leaf=1, min_samples_split=2,\n",
       "                       min_weight_fraction_leaf=0.0, n_estimators=100,\n",
       "                       n_jobs=None, oob_score=False, random_state=None,\n",
       "                       verbose=0, warm_start=False)"
      ]
     },
     "execution_count": 529,
     "metadata": {},
     "output_type": "execute_result"
    }
   ],
   "source": [
    "rf.fit(X_train[initial_features], y_train)"
   ]
  },
  {
   "cell_type": "code",
   "execution_count": 530,
   "metadata": {},
   "outputs": [],
   "source": [
    "ypred_proba_test = rf.predict_proba(X_test[initial_features])[:,1]\n",
    "ypred_bin_test = rf.predict(X_test[initial_features])"
   ]
  },
  {
   "cell_type": "code",
   "execution_count": 531,
   "metadata": {},
   "outputs": [],
   "source": [
    "# auc = sklearn.metrics.roc_auc_score(y_test, ypred_proba_test)\n",
    "confusion = sklearn.metrics.confusion_matrix(y_test, ypred_bin_test)\n",
    "accuracy = sklearn.metrics.accuracy_score(y_test, ypred_bin_test)\n",
    "classification_report = sklearn.metrics.classification_report(y_test, ypred_bin_test)"
   ]
  },
  {
   "cell_type": "code",
   "execution_count": 532,
   "metadata": {},
   "outputs": [
    {
     "name": "stdout",
     "output_type": "stream",
     "text": [
      "Accuracy on test: 0.733\n",
      "\n",
      "               Predicted dinner  Predicted party  Predicted sleep\n",
      "Actual dinner                10                1                7\n",
      "Actual party                  1               19                0\n",
      "Actual sleep                  5                2               15\n"
     ]
    }
   ],
   "source": [
    "# print('AUC on test: %0.3f' % auc)\n",
    "print('Accuracy on test: %0.3f' % accuracy)\n",
    "print()\n",
    "print(pd.DataFrame(confusion,\n",
    "                  index=['Actual dinner','Actual party', 'Actual sleep'],\n",
    "                  columns=['Predicted dinner', 'Predicted party', 'Predicted sleep']))\n",
    "\n",
    "# print(pd.DataFrame(confusion,\n",
    "#                   index=['Actual party', 'Actual sleep'],\n",
    "#                   columns=['Predicted party', 'Predicted sleep']))"
   ]
  },
  {
   "cell_type": "code",
   "execution_count": 395,
   "metadata": {
    "jupyter": {
     "source_hidden": true
    }
   },
   "outputs": [
    {
     "data": {
      "text/html": [
       "<div>\n",
       "<style scoped>\n",
       "    .dataframe tbody tr th:only-of-type {\n",
       "        vertical-align: middle;\n",
       "    }\n",
       "\n",
       "    .dataframe tbody tr th {\n",
       "        vertical-align: top;\n",
       "    }\n",
       "\n",
       "    .dataframe thead th {\n",
       "        text-align: right;\n",
       "    }\n",
       "</style>\n",
       "<table border=\"1\" class=\"dataframe\">\n",
       "  <thead>\n",
       "    <tr style=\"text-align: right;\">\n",
       "      <th></th>\n",
       "      <th>coefs</th>\n",
       "      <th>odds_ratio</th>\n",
       "    </tr>\n",
       "  </thead>\n",
       "  <tbody>\n",
       "    <tr>\n",
       "      <th>valence</th>\n",
       "      <td>1.132645</td>\n",
       "      <td>3.103856</td>\n",
       "    </tr>\n",
       "    <tr>\n",
       "      <th>acousticness</th>\n",
       "      <td>0.244193</td>\n",
       "      <td>1.276590</td>\n",
       "    </tr>\n",
       "    <tr>\n",
       "      <th>mode</th>\n",
       "      <td>0.121859</td>\n",
       "      <td>1.129595</td>\n",
       "    </tr>\n",
       "    <tr>\n",
       "      <th>tempo</th>\n",
       "      <td>0.060827</td>\n",
       "      <td>1.062715</td>\n",
       "    </tr>\n",
       "    <tr>\n",
       "      <th>key</th>\n",
       "      <td>0.021568</td>\n",
       "      <td>1.021802</td>\n",
       "    </tr>\n",
       "  </tbody>\n",
       "</table>\n",
       "</div>"
      ],
      "text/plain": [
       "                 coefs  odds_ratio\n",
       "valence       1.132645    3.103856\n",
       "acousticness  0.244193    1.276590\n",
       "mode          0.121859    1.129595\n",
       "tempo         0.060827    1.062715\n",
       "key           0.021568    1.021802"
      ]
     },
     "execution_count": 395,
     "metadata": {},
     "output_type": "execute_result"
    }
   ],
   "source": [
    "fitted = pd.DataFrame(index=initial_features)\n",
    "\n",
    "fitted['coefs'] = lr.coef_[0]\n",
    "\n",
    "fitted['odds_ratio'] = fitted.coefs.apply(np.exp)\n",
    "\n",
    "fitted = fitted.sort_values(by='odds_ratio', ascending=False)\n",
    "\n",
    "fitted.head()"
   ]
  },
  {
   "cell_type": "markdown",
   "metadata": {},
   "source": [
    "# Fit a new song"
   ]
  },
  {
   "cell_type": "code",
   "execution_count": 393,
   "metadata": {},
   "outputs": [],
   "source": [
    "import spotipy\n",
    "from spotipy.oauth2 import SpotifyClientCredentials\n",
    "import os\n",
    "\n",
    "SP_USER = \"1295675405\"  # this is my public user id, not a key and needs to be passed as an argument to use my playlists\n",
    "CID = os.getenv(\"spotipy_cid\")\n",
    "SECRET = os.getenv(\"spotipy_secret\")\n",
    "\n",
    "client_credentials_manager = SpotifyClientCredentials(client_id=CID, client_secret=SECRET)\n",
    "sp = spotipy.Spotify(client_credentials_manager=client_credentials_manager)"
   ]
  },
  {
   "cell_type": "code",
   "execution_count": 601,
   "metadata": {},
   "outputs": [],
   "source": [
    "teststring = 'cant hold us macklemore'"
   ]
  },
  {
   "cell_type": "code",
   "execution_count": 609,
   "metadata": {},
   "outputs": [
    {
     "data": {
      "text/plain": [
       "'Macklemore & Ryan Lewis'"
      ]
     },
     "execution_count": 609,
     "metadata": {},
     "output_type": "execute_result"
    }
   ],
   "source": [
    "sp.search(teststring)['tracks']['items'][0]['artists'][0]['name']"
   ]
  },
  {
   "cell_type": "code",
   "execution_count": 610,
   "metadata": {},
   "outputs": [
    {
     "data": {
      "text/plain": [
       "\"Can't Hold Us - feat. Ray Dalton\""
      ]
     },
     "execution_count": 610,
     "metadata": {},
     "output_type": "execute_result"
    }
   ],
   "source": [
    "sp.search(teststring)['tracks']['items'][0]['name']"
   ]
  },
  {
   "cell_type": "code",
   "execution_count": 592,
   "metadata": {},
   "outputs": [
    {
     "data": {
      "text/plain": [
       "array(['party'], dtype=object)"
      ]
     },
     "execution_count": 592,
     "metadata": {},
     "output_type": "execute_result"
    }
   ],
   "source": [
    "testid = sp.search(teststring)['tracks']['items'][0]['id']\n",
    "testfeatures = sp.audio_features(testid)\n",
    "testdf = pd.DataFrame(testfeatures)\n",
    "testdf = pd.DataFrame(scale_data(testdf[initial_features]), columns = initial_features)\n",
    "ypred_proba_new = lr.predict_proba(testdf[initial_features])[:,1]\n",
    "ypred_bin_new = lr.predict(testdf[initial_features])\n",
    "ypred_bin_new"
   ]
  },
  {
   "cell_type": "code",
   "execution_count": 562,
   "metadata": {},
   "outputs": [
    {
     "data": {
      "text/plain": [
       "'6VoIBz0VhCyz7OdEoRYDiA'"
      ]
     },
     "execution_count": 562,
     "metadata": {},
     "output_type": "execute_result"
    }
   ],
   "source": [
    "testid"
   ]
  },
  {
   "cell_type": "code",
   "execution_count": 593,
   "metadata": {},
   "outputs": [],
   "source": [
    "DB_HOST = os.environ.get('MYSQL_HOST')\n",
    "DB_PORT = os.environ.get('MYSQL_PORT')\n",
    "DB_USER = os.environ.get('MYSQL_USER')\n",
    "DB_PW = os.environ.get('MYSQL_PASSWORD')"
   ]
  },
  {
   "cell_type": "code",
   "execution_count": 600,
   "metadata": {},
   "outputs": [
    {
     "data": {
      "text/plain": [
       "'msia423_spotify_features'"
      ]
     },
     "execution_count": 600,
     "metadata": {},
     "output_type": "execute_result"
    }
   ],
   "source": [
    "os.environ.get('DATABASE_NAME')"
   ]
  },
  {
   "cell_type": "code",
   "execution_count": 611,
   "metadata": {},
   "outputs": [],
   "source": [
    "def scale_data(dataframe, array):\n",
    "    \"\"\"\n",
    "    Fits a scaler on a dataframe and applies it on an array of the same shape\n",
    "    Args:\n",
    "        dataframe: dataframe which the scaler would calculate column means and variances on\n",
    "        array: array which will be standardized - needs to be same number of ordered vectors as the dataframe\n",
    "\n",
    "    Returns: standardized array\n",
    "\n",
    "    \"\"\"\n",
    "    scaler = fit_scaler(dataframe)\n",
    "    return (array - scaler.mean_) / (scaler.var_ ** 0.5)"
   ]
  },
  {
   "cell_type": "code",
   "execution_count": 613,
   "metadata": {},
   "outputs": [],
   "source": [
    "song_details = sp.search('ed sheeran i se fire')\n"
   ]
  },
  {
   "cell_type": "code",
   "execution_count": 614,
   "metadata": {},
   "outputs": [],
   "source": [
    "artist = song_details['tracks']['items'][0]['artists'][0]['name']\n",
    "song = song_details['tracks']['items'][0]['name']\n",
    "song_id = song_details['tracks']['items'][0]['id']\n",
    "song_features = sp.audio_features(song_id)\n"
   ]
  },
  {
   "cell_type": "code",
   "execution_count": 615,
   "metadata": {},
   "outputs": [],
   "source": [
    "df = pd.DataFrame(song_features)\n"
   ]
  },
  {
   "cell_type": "code",
   "execution_count": 633,
   "metadata": {},
   "outputs": [
    {
     "name": "stdout",
     "output_type": "stream",
     "text": [
      "0\n"
     ]
    }
   ],
   "source": [
    "for index, row in df.iterrows():\n",
    "    print(row['mode'])"
   ]
  },
  {
   "cell_type": "code",
   "execution_count": null,
   "metadata": {},
   "outputs": [],
   "source": [
    "full_dataset = pd.read_csv(c.FEATURES_RAW_LOCATION)\n",
    "df = pd.DataFrame(scale_data(full_dataset, df))\n",
    "ypred_bin_new = lr.predict(df[c.training_features])\n",
    "df['playlist'] = ypred_bin_new[0]"
   ]
  }
 ],
 "metadata": {
  "kernelspec": {
   "display_name": "Python 3",
   "language": "python",
   "name": "python3"
  },
  "language_info": {
   "codemirror_mode": {
    "name": "ipython",
    "version": 3
   },
   "file_extension": ".py",
   "mimetype": "text/x-python",
   "name": "python",
   "nbconvert_exporter": "python",
   "pygments_lexer": "ipython3",
   "version": "3.7.3"
  }
 },
 "nbformat": 4,
 "nbformat_minor": 4
}
